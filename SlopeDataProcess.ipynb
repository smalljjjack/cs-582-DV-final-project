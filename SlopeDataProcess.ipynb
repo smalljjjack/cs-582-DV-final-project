{
 "cells": [
  {
   "cell_type": "code",
   "execution_count": 1,
   "metadata": {
    "collapsed": true
   },
   "outputs": [],
   "source": [
    "import pandas as pd "
   ]
  },
  {
   "cell_type": "code",
   "execution_count": 34,
   "metadata": {},
   "outputs": [],
   "source": [
    "def outputFunction(year, out, d):\n",
    "    out.write(year + \": {\")\n",
    "    c = 0\n",
    "    for k, v in d.items():\n",
    "        out.write(\"\\\"\" + k + \"\\\": {\\\"win\\\": \" + str(v[\"win\"])+ \", \\\"total\\\": \" + str(v[\"total\"]) + \", \")\n",
    "        count = 0\n",
    "        for k1, v1 in v[\"match\"].items():\n",
    "            if count < len(v[\"match\"]) - 1:\n",
    "                out.write(\"\\\"\" + k1 + \"\\\": \" + str(v1) + \", \")\n",
    "            else:\n",
    "                out.write(\"\\\"\" + k1 + \"\\\": \" + str(v1))\n",
    "            count += 1\n",
    "        if c < len(d) - 1:\n",
    "            out.write(\"}, \")\n",
    "        else:\n",
    "            out.write(\"}\")\n",
    "        c += 1\n",
    "    out.write(\"}\")  \n",
    "    \n",
    "def get_slope_by_year():\n",
    "    data = pd.read_csv(\"data/results.csv\")\n",
    "    with open(\"slopeData.js\", \"w\") as out:\n",
    "        out.write(\"var slopeData = {\" + \"\\n\")\n",
    "        active_year = 0;\n",
    "        year_map = {};\n",
    "        for date, home_team, home_score, away_team, away_score, tournament in zip(data['date'], data['home_team'], data['home_score'], data['away_team'], data['away_score'], data['tournament']):\n",
    "            curt_year = date[0:4]\n",
    "            if curt_year != active_year:\n",
    "                if active_year != 0:\n",
    "                    outputFunction(active_year, out, year_map);\n",
    "                    out.write(\",\\n\")\n",
    "                active_year = curt_year\n",
    "                year_map = {};\n",
    "                \n",
    "            if home_team not in year_map:\n",
    "                if home_score > away_score:\n",
    "                    year_map[home_team] = {\"total\": 1, \"win\": 1, \"match\":{tournament:1}}\n",
    "                else:\n",
    "                    year_map[home_team] = {\"total\": 1, \"win\": 0, \"match\":{tournament:1}}\n",
    "            else:\n",
    "                year_map[home_team][\"total\"] += 1\n",
    "                if tournament in year_map[home_team][\"match\"]:\n",
    "                    year_map[home_team][\"match\"][tournament] += 1\n",
    "                else:\n",
    "                    year_map[home_team][\"match\"][tournament] = 1\n",
    "                if home_score > away_score:\n",
    "                    year_map[home_team][\"win\"] += 1\n",
    "                    \n",
    "            if away_team not in year_map:\n",
    "                if home_score < away_score:\n",
    "                    year_map[away_team] = {\"total\": 1, \"win\": 1, \"match\":{tournament:1}}\n",
    "                else:\n",
    "                    year_map[away_team] = {\"total\": 1, \"win\": 0, \"match\":{tournament:1}}\n",
    "            else:\n",
    "                year_map[away_team][\"total\"] += 1\n",
    "                if tournament in year_map[away_team][\"match\"]:\n",
    "                    year_map[away_team][\"match\"][tournament] += 1\n",
    "                else:\n",
    "                    year_map[away_team][\"match\"][tournament] = 1\n",
    "                if home_score < away_score:\n",
    "                    year_map[away_team][\"win\"] += 1\n",
    "        outputFunction(active_year, out, year_map)\n",
    "        out.write(\"}\")\n",
    "            "
   ]
  },
  {
   "cell_type": "code",
   "execution_count": 35,
   "metadata": {},
   "outputs": [],
   "source": [
    "get_slope_by_year()"
   ]
  },
  {
   "cell_type": "code",
   "execution_count": 3,
   "metadata": {},
   "outputs": [
    {
     "data": {
      "text/plain": [
       "0.35"
      ]
     },
     "execution_count": 3,
     "metadata": {},
     "output_type": "execute_result"
    }
   ],
   "source": []
  },
  {
   "cell_type": "code",
   "execution_count": null,
   "metadata": {
    "collapsed": true
   },
   "outputs": [],
   "source": []
  }
 ],
 "metadata": {
  "kernelspec": {
   "display_name": "Python 3",
   "language": "python",
   "name": "python3"
  },
  "language_info": {
   "codemirror_mode": {
    "name": "ipython",
    "version": 3
   },
   "file_extension": ".py",
   "mimetype": "text/x-python",
   "name": "python",
   "nbconvert_exporter": "python",
   "pygments_lexer": "ipython3",
   "version": "3.6.1"
  }
 },
 "nbformat": 4,
 "nbformat_minor": 2
}
